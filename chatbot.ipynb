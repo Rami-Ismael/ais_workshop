{
 "cells": [
  {
   "cell_type": "code",
   "execution_count": 1,
   "metadata": {},
   "outputs": [
    {
     "name": "stdout",
     "output_type": "stream",
     "text": [
      "Not running on Google Colab\n"
     ]
    },
    {
     "name": "stderr",
     "output_type": "stream",
     "text": [
      "/home/null/miniconda3/envs/ais_workshop/lib/python3.7/site-packages/tqdm/auto.py:22: TqdmWarning: IProgress not found. Please update jupyter and ipywidgets. See https://ipywidgets.readthedocs.io/en/stable/user_install.html\n",
      "  from .autonotebook import tqdm as notebook_tqdm\n"
     ]
    }
   ],
   "source": [
    "import sys\n",
    "if 'google.colab' in sys.modules:\n",
    "    print(\"Running on Google Colab\")\n",
    "    ## The Dataset libraries make it possible to load and process datasets from the Hugging Face hub\n",
    "    !pip install datasets\n",
    "    !pip install rich\n",
    "    !pip install seaborn\n",
    "    !pip install imagemagick\n",
    "    !pip install optuna\n",
    "    !pip install autogluon==0.6.2\n",
    "    !pip install -U pip setuptools wheel\n",
    "    !pip install -U 'spacy[cuda-autodetect]'\n",
    "    !python -m spacy download en_core_web_sm\n",
    "    !pip bitsandbytes\n",
    "    !pip install accelerate\n",
    "else:\n",
    "    print(\"Not running on Google Colab\")\n",
    "from rich import print\n",
    "import torch"
   ]
  },
  {
   "cell_type": "markdown",
   "metadata": {},
   "source": [
    "# Donload  the Flan T5 model from Hugging Face hub\n",
    "1. The t5 model base is 1GB in size. So, it will take some time to download the model.\n"
   ]
  },
  {
   "cell_type": "code",
   "execution_count": 32,
   "metadata": {},
   "outputs": [
    {
     "data": {
      "text/html": [
       "<pre style=\"white-space:pre;overflow-x:auto;line-height:normal;font-family:Menlo,'DejaVu Sans Mono',consolas,'Courier New',monospace\">CUDA is not available\n",
       "</pre>\n"
      ],
      "text/plain": [
       "CUDA is not available\n"
      ]
     },
     "metadata": {},
     "output_type": "display_data"
    },
    {
     "data": {
      "text/html": [
       "<pre style=\"white-space:pre;overflow-x:auto;line-height:normal;font-family:Menlo,'DejaVu Sans Mono',consolas,'Courier New',monospace\">Wie ich er bitten?\n",
       "</pre>\n"
      ],
      "text/plain": [
       "Wie ich er bitten?\n"
      ]
     },
     "metadata": {},
     "output_type": "display_data"
    },
    {
     "data": {
      "text/html": [
       "<pre style=\"white-space:pre;overflow-x:auto;line-height:normal;font-family:Menlo,'DejaVu Sans Mono',consolas,'Courier New',monospace\">Time taken:  <span style=\"color: #008080; text-decoration-color: #008080; font-weight: bold\">0.6217010021209717</span>\n",
       "</pre>\n"
      ],
      "text/plain": [
       "Time taken:  \u001b[1;36m0.6217010021209717\u001b[0m\n"
      ]
     },
     "metadata": {},
     "output_type": "display_data"
    }
   ],
   "source": [
    "import time \n",
    "import torch\n",
    "from transformers import AutoModelForSeq2SeqLM\n",
    "from huggingface_hub import HfApi\n",
    "## check if the system has cuda devices\n",
    "if torch.cuda.is_available():\n",
    "    print(\"CUDA is available\")\n",
    "    # pip install bitsandbytes accelerate\n",
    "    from transformers import T5Tokenizer, T5ForConditionalGeneration\n",
    "\n",
    "    tokenizer = T5Tokenizer.from_pretrained(\"google/flan-t5-small\")\n",
    "    model = T5ForConditionalGeneration.from_pretrained(\"google/flan-t5-small\", device_map=\"auto\", load_in_8bit=True)\n",
    "\n",
    "    input_text = \"translate English to German: How old are you?\"\n",
    "    input_ids = tokenizer(input_text, return_tensors=\"pt\").input_ids.to(\"cuda\")\n",
    "    start_time = time.time()\n",
    "    outputs = model.generate(input_ids)\n",
    "    print(tokenizer.decode(outputs[0]))\n",
    "    print(\"Time taken: \", time.time() - start_time)\n",
    "else:\n",
    "    print(\"CUDA is not available\")\n",
    "\n",
    "    from transformers import T5Tokenizer, T5ForConditionalGeneration\n",
    "\n",
    "    tokenizer = T5Tokenizer.from_pretrained(\"google/flan-t5-small\")\n",
    "    model = AutoModelForSeq2SeqLM.from_pretrained(\"google/flan-t5-small\")\n",
    "\n",
    "    input_text = \"translate English to German: How old are you?\"\n",
    "    input_ids = tokenizer(input_text, return_tensors=\"pt\").input_ids\n",
    "    start_time = time.time()\n",
    "    outputs = model.generate(input_ids)\n",
    "    print(tokenizer.decode(outputs[0] , skip_special_tokens=True))\n",
    "\n",
    "    print(\"Time taken: \", time.time() - start_time)\n"
   ]
  },
  {
   "cell_type": "markdown",
   "metadata": {},
   "source": [
    "# Get the size of the model context lengths"
   ]
  },
  {
   "cell_type": "code",
   "execution_count": 36,
   "metadata": {},
   "outputs": [
    {
     "data": {
      "text/html": [
       "<pre style=\"white-space:pre;overflow-x:auto;line-height:normal;font-family:Menlo,'DejaVu Sans Mono',consolas,'Courier New',monospace\">The model has <span style=\"color: #008080; text-decoration-color: #008080; font-weight: bold\">76</span>,<span style=\"color: #008080; text-decoration-color: #008080; font-weight: bold\">961</span>,<span style=\"color: #008080; text-decoration-color: #008080; font-weight: bold\">152</span> parameters\n",
       "</pre>\n"
      ],
      "text/plain": [
       "The model has \u001b[1;36m76\u001b[0m,\u001b[1;36m961\u001b[0m,\u001b[1;36m152\u001b[0m parameters\n"
      ]
     },
     "metadata": {},
     "output_type": "display_data"
    },
    {
     "data": {
      "text/html": [
       "<pre style=\"white-space:pre;overflow-x:auto;line-height:normal;font-family:Menlo,'DejaVu Sans Mono',consolas,'Courier New',monospace\">The context length is <span style=\"color: #008080; text-decoration-color: #008080; font-weight: bold\">512</span>\n",
       "</pre>\n"
      ],
      "text/plain": [
       "The context length is \u001b[1;36m512\u001b[0m\n"
      ]
     },
     "metadata": {},
     "output_type": "display_data"
    }
   ],
   "source": [
    "print(f\"The model has {model.num_parameters():,} parameters\")\n",
    "## get the context length\n",
    "print(f\"The context length is {model.config.n_positions}\")"
   ]
  },
  {
   "cell_type": "code",
   "execution_count": 46,
   "metadata": {},
   "outputs": [
    {
     "data": {
      "text/html": [
       "<pre style=\"white-space:pre;overflow-x:auto;line-height:normal;font-family:Menlo,'DejaVu Sans Mono',consolas,'Courier New',monospace\"><span style=\"color: #800080; text-decoration-color: #800080; font-weight: bold\">tensor</span><span style=\"font-weight: bold\">([[</span> <span style=\"color: #008080; text-decoration-color: #008080; font-weight: bold\">363</span>,   <span style=\"color: #008080; text-decoration-color: #008080; font-weight: bold\">19</span>,    <span style=\"color: #008080; text-decoration-color: #008080; font-weight: bold\">8</span>, <span style=\"color: #008080; text-decoration-color: #008080; font-weight: bold\">2530</span>,   <span style=\"color: #008080; text-decoration-color: #008080; font-weight: bold\">13</span>,  <span style=\"color: #008080; text-decoration-color: #008080; font-weight: bold\">280</span>,   <span style=\"color: #008080; text-decoration-color: #008080; font-weight: bold\">58</span>,    <span style=\"color: #008080; text-decoration-color: #008080; font-weight: bold\">1</span><span style=\"font-weight: bold\">]])</span>\n",
       "</pre>\n"
      ],
      "text/plain": [
       "\u001b[1;35mtensor\u001b[0m\u001b[1m(\u001b[0m\u001b[1m[\u001b[0m\u001b[1m[\u001b[0m \u001b[1;36m363\u001b[0m,   \u001b[1;36m19\u001b[0m,    \u001b[1;36m8\u001b[0m, \u001b[1;36m2530\u001b[0m,   \u001b[1;36m13\u001b[0m,  \u001b[1;36m280\u001b[0m,   \u001b[1;36m58\u001b[0m,    \u001b[1;36m1\u001b[0m\u001b[1m]\u001b[0m\u001b[1m]\u001b[0m\u001b[1m)\u001b[0m\n"
      ]
     },
     "metadata": {},
     "output_type": "display_data"
    },
    {
     "data": {
      "text/html": [
       "<pre style=\"white-space:pre;overflow-x:auto;line-height:normal;font-family:Menlo,'DejaVu Sans Mono',consolas,'Courier New',monospace\">life in which there is something in common and a place in life.\n",
       "</pre>\n"
      ],
      "text/plain": [
       "life in which there is something in common and a place in life.\n"
      ]
     },
     "metadata": {},
     "output_type": "display_data"
    },
    {
     "data": {
      "text/html": [
       "<pre style=\"white-space:pre;overflow-x:auto;line-height:normal;font-family:Menlo,'DejaVu Sans Mono',consolas,'Courier New',monospace\">life is a kind of thing.\n",
       "</pre>\n"
      ],
      "text/plain": [
       "life is a kind of thing.\n"
      ]
     },
     "metadata": {},
     "output_type": "display_data"
    },
    {
     "data": {
      "text/html": [
       "<pre style=\"white-space:pre;overflow-x:auto;line-height:normal;font-family:Menlo,'DejaVu Sans Mono',consolas,'Courier New',monospace\">life in the sea\n",
       "</pre>\n"
      ],
      "text/plain": [
       "life in the sea\n"
      ]
     },
     "metadata": {},
     "output_type": "display_data"
    }
   ],
   "source": [
    "# Template for the model\n",
    "TEMPLATE:str = \"What is the meaning of life?\"\n",
    "input_ids = tokenizer(TEMPLATE, return_tensors=\"pt\").input_ids\n",
    "print(input_ids)\n",
    "## Constastive Seach\n",
    "outputs = model.generate(\n",
    "    input_ids , \n",
    "    do_sample=True, \n",
    "    max_length =  300, \n",
    "    top_k = 100,\n",
    "    top_p=0.70, \n",
    "    num_return_sequences = 3\n",
    ")\n",
    "for output in outputs:\n",
    "    print(tokenizer.decode(output , skip_special_tokens=True))"
   ]
  }
 ],
 "metadata": {
  "kernelspec": {
   "display_name": "Python 3.7.16 ('ais_workshop')",
   "language": "python",
   "name": "python3"
  },
  "language_info": {
   "codemirror_mode": {
    "name": "ipython",
    "version": 3
   },
   "file_extension": ".py",
   "mimetype": "text/x-python",
   "name": "python",
   "nbconvert_exporter": "python",
   "pygments_lexer": "ipython3",
   "version": "3.7.16"
  },
  "orig_nbformat": 4,
  "vscode": {
   "interpreter": {
    "hash": "a5719a2572a93fd6957adec4b481afcada6f75447d61aaabf21d2456735c98a2"
   }
  }
 },
 "nbformat": 4,
 "nbformat_minor": 2
}
