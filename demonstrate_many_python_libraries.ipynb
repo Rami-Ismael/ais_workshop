{
 "cells": [
  {
   "cell_type": "markdown",
   "metadata": {},
   "source": [
    "# Import your libraries"
   ]
  },
  {
   "cell_type": "code",
   "execution_count": null,
   "metadata": {},
   "outputs": [],
   "source": [
    "import sys\n",
    "if 'google.colab' in sys.modules:\n",
    "    print(\"Running on Google Colab\")\n",
    "    !pip install rich\n",
    "    #!pip install datasets==\"2.9.0\"\n",
    "    # Download gluon \n",
    "    #!pip3 install -U pip\n",
    "    #!pip3 install -U setuptools wheel\n",
    "    #!pip3 install autogluon\n",
    "    #!pip show autogluon\n",
    "else:\n",
    "    print(\"Not running on Google Colab\")\n",
    "from rich import print"
   ]
  },
  {
   "cell_type": "markdown",
   "metadata": {},
   "source": [
    "# Numpy\n",
    "- Module to provide support for arrays, which don’t exist in base Python\n",
    "- Used by nearly every other module in Python"
   ]
  },
  {
   "cell_type": "code",
   "execution_count": null,
   "metadata": {},
   "outputs": [],
   "source": [
    "import numpy as np\n",
    "print(f\"Numpy: {np.version.version}\")\n",
    "my_array = np.array([1, 2, 3, 4, 5] , dtype = np.int8)\n",
    "print(f\"Number of dimensions: {my_array.ndim}\")\n",
    "print(f\"Shape of array: {my_array.shape}\")\n",
    "print(f\"Arary DataType: {my_array.dtype}\")\n",
    "\n",
    "my_2d_array = np.array([[1, 2, 3], [4, 5, 6]] , dtype = np.int8)\n",
    "print(f\"Number of dimensions: {my_2d_array.ndim}\")\n",
    "print(f\"Shape of array: {my_2d_array.shape}\")\n",
    "print(f\"Arary DataType: {my_2d_array.dtype}\")"
   ]
  },
  {
   "cell_type": "markdown",
   "metadata": {},
   "source": [
    "# Pandas"
   ]
  },
  {
   "cell_type": "code",
   "execution_count": null,
   "metadata": {},
   "outputs": [],
   "source": [
    "# Pandas example\n",
    "import pandas as pd\n",
    "\n",
    "# Create a DataFrame\n",
    "data = {'Name':['John', 'Anna', 'Peter', 'Linda'],\n",
    "        'Location':['New York', 'Paris', 'Berlin', 'London'],\n",
    "        'Age':[24, 13, 53, 33]\n",
    "       }\n",
    "\n",
    "df = pd.DataFrame(data)\n",
    "print(\"The DataFrame is:\")\n",
    "print(df)\n",
    "\n",
    "# Select a column\n",
    "print(\"The element in the column 'Name' is:\")\n",
    "print(df['Name'])\n",
    "\n",
    "# Select multiple columns\n",
    "print(\"The element in the columns 'Name' and 'Location' is:\")\n",
    "print(df[['Name', 'Location']])\n",
    "\n",
    "# Select rows by index\n",
    "print(\"The element in the first row is:\")\n",
    "print(df.loc[0])\n",
    "\n",
    "# Select rows by condition\n",
    "print(\"The element in the rows where 'Age' is greater than 30 is:\")\n",
    "print(df[df['Age'] > 30])\n",
    "\n",
    "# A SQR query on the pandas DataFrame\n",
    "print(\"The element in the rows where 'Age' is greater than 30 is:\")\n",
    "print(df.query('Age > 30'))"
   ]
  },
  {
   "cell_type": "markdown",
   "metadata": {},
   "source": [
    "# SciPy\n",
    "1. Optimization "
   ]
  },
  {
   "cell_type": "code",
   "execution_count": null,
   "metadata": {},
   "outputs": [],
   "source": [
    "# SciPy example\n",
    "import scipy.optimize as opt\n",
    "import seaborn as sns\n",
    "\n",
    "# Define the function to be minimized\n",
    "def f(x):\n",
    "    return x**2 + 10*np.sin(x)\n",
    "## Create a seaborn plot of the function abov\n",
    "sns.lineplot(x=np.arange(-10,10,0.1), y=f(np.arange(-10,10,0.1)))\n",
    "\n",
    "\n",
    "# Call the optimize function\n",
    "result = opt.minimize(f, x0=0)\n",
    "\n",
    "# Print the results\n",
    "print(result)"
   ]
  },
  {
   "cell_type": "markdown",
   "metadata": {},
   "source": [
    "# Matplotlib\n",
    "1. Mathplotlib is a plotting library for the Python programming language"
   ]
  },
  {
   "cell_type": "markdown",
   "metadata": {},
   "source": [
    "## Install Matplotlib"
   ]
  },
  {
   "cell_type": "code",
   "execution_count": null,
   "metadata": {},
   "outputs": [],
   "source": [
    "if \"google.colab\" in sys.modules:\n",
    "    !pip install -U matplotlib\n",
    "    #!pip install imagemagick"
   ]
  },
  {
   "cell_type": "markdown",
   "metadata": {},
   "source": [
    "## Create a Matplolib Plot"
   ]
  },
  {
   "cell_type": "code",
   "execution_count": null,
   "metadata": {},
   "outputs": [],
   "source": [
    "# Matplotlib example\n",
    "import matplotlib.pyplot as plt\n",
    "\n",
    "# Create a simple line plot\n",
    "x = [1,2,3,4,5]\n",
    "y = [1,4,9,16,25]\n",
    "plt.plot(x,y)\n",
    "plt.show()\n",
    "\n",
    "# Create a scatter plot\n",
    "x = [1,2,3,4,5]\n",
    "y = [1,4,9,16,25]\n",
    "plt.scatter(x,y)\n",
    "plt.show()\n",
    "\n",
    "# Create a bar chart\n",
    "x = [1,2,3,4,5]\n",
    "y = [1,4,9,16,25]\n",
    "plt.bar(x,y)\n",
    "plt.show()\n",
    "def imshow(img):\n",
    "    img = img / 2 + 0.5     # unnormalize\n",
    "    npimg = img.numpy()\n",
    "    plt.imshow(np.transpose(npimg, (1, 2, 0)))\n",
    "    plt.show()"
   ]
  },
  {
   "cell_type": "markdown",
   "metadata": {},
   "source": [
    "## Create an animation plot with Matplotlib"
   ]
  },
  {
   "cell_type": "code",
   "execution_count": null,
   "metadata": {},
   "outputs": [],
   "source": [
    "import sys\n",
    "import numpy as np\n",
    "import matplotlib.pyplot as plt\n",
    "from matplotlib.animation import FuncAnimation\n",
    "\n",
    "fig, ax = plt.subplots()\n",
    "fig.set_tight_layout(True)\n",
    "\n",
    "# Query the figure's on-screen size and DPI. Note that when saving the figure to\n",
    "# a file, we need to provide a DPI for that separately.\n",
    "print('fig size: {0} DPI, size in inches {1}'.format(\n",
    "    fig.get_dpi(), fig.get_size_inches()))\n",
    "\n",
    "# Plot a scatter that persists (isn't redrawn) and the initial line.\n",
    "x = np.arange(0, 20, 0.1)\n",
    "ax.scatter(x, x + np.random.normal(0, 3.0, len(x)))\n",
    "line, = ax.plot(x, x - 5, 'r-', linewidth=2)\n",
    "\n",
    "def update(i):\n",
    "    label = 'timestep {0}'.format(i)\n",
    "    print(label)\n",
    "    # Update the line and the axes (with a new xlabel). Return a tuple of\n",
    "    # \"artists\" that have to be redrawn for this frame.\n",
    "    line.set_ydata(x - 5 + i)\n",
    "    ax.set_xlabel(label)\n",
    "    return line, ax\n",
    "\n",
    "# FuncAnimation will call the 'update' function for each frame; here\n",
    "# animating over 10 frames, with an interval of 200ms between frames.\n",
    "anim = FuncAnimation(fig, update, frames=np.arange(0, 10), interval=200)\n",
    "try:\n",
    "    anim.save('line.gif', dpi=80, writer='imagemagick')\n",
    "except TypeError as e:\n",
    "    print(e)\n",
    "    print('Try installing imagemagick with:')\n",
    "    print('  conda install -c conda-forge imagemagick')\n",
    "    print('or')\n",
    "    print('  pip install imagemagick')\n",
    "# plt.show() will just loop the animation forever.\n",
    "plt.show()"
   ]
  },
  {
   "cell_type": "markdown",
   "metadata": {},
   "source": [
    "# Scikit Learn on the Iris Dataset\n",
    "1. Download the Iris Dataset\n",
    "- Iris dataset: classic ML benchmark for classifying iris species based on sepal/petal measurements\n",
    "- 150 observations of 3 iris species (50 each)\n",
    "- Goal is to train a machine learning model to accurately predict the species of an iris flower based on sepal and petal measurements\n",
    "2. Split the dataset into training and testing sets where 80% of the data is used for training and 20% for testing\n",
    "3. Train a Decision Tree Classifier on the training set\n",
    "4. Evaluate the model on the testing set and display the confusion matrix"
   ]
  },
  {
   "cell_type": "code",
   "execution_count": null,
   "metadata": {},
   "outputs": [],
   "source": [
    "# Scikit-learn example\n",
    "from rich import print\n",
    "from sklearn import datasets\n",
    "from sklearn.model_selection import train_test_split\n",
    "from sklearn.ensemble import RandomForestClassifier\n",
    "from sklearn.metrics import confusion_matrix, ConfusionMatrixDisplay\n",
    "from sklearn.tree import DecisionTreeClassifier\n",
    "from sklearn.datasets import load_iris\n",
    "from sklearn.model_selection import train_test_split\n",
    "from sklearn import tree\n",
    "# Load the iris dataset\n",
    "iris = load_iris()\n",
    "print(iris.feature_names)\n",
    "X = iris.data\n",
    "print(iris.target_names)\n",
    "y = iris.target\n",
    "\n",
    "# Split the data into training and test sets\n",
    "X_train, X_test, y_train, y_test = train_test_split(X, y, test_size=0.2, random_state=42)\n",
    "\n",
    "## The size of the training and test sets\n",
    "print(X_train.shape)\n",
    "print(X_test.shape)\n",
    "\n",
    "# Train the model\n",
    "decision_tree_classifier = DecisionTreeClassifier( max_depth=2)\n",
    "decision_tree_classifier.fit(X_train, y_train)\n",
    "\n",
    "# Predict the test set\n",
    "\n",
    "predictions = decision_tree_classifier.predict(X_test)\n",
    "\n",
    "# Evaluate the model\n",
    "accuracy = decision_tree_classifier.score(X_test, y_test)\n",
    "\n",
    "print(\"The accuracy of the model is: \", accuracy)\n",
    "\n",
    "\n",
    "# Plot the confusion matrix\n",
    "\n",
    "cm = confusion_matrix(y_test, predictions ,  labels=decision_tree_classifier.classes_)\n",
    "\n",
    "\n",
    "## display the confusion matrix\n",
    "\n",
    "disp = ConfusionMatrixDisplay(confusion_matrix=cm , display_labels=decision_tree_classifier.classes_)\n",
    "\n",
    "\n",
    "\n",
    "disp.plot()"
   ]
  },
  {
   "cell_type": "markdown",
   "metadata": {},
   "source": [
    "### Display Decision Tree Classifier"
   ]
  },
  {
   "cell_type": "code",
   "execution_count": null,
   "metadata": {},
   "outputs": [],
   "source": [
    "tree.plot_tree( decision_tree_classifier , feature_names=iris.feature_names, class_names=iris.target_names, filled=True)"
   ]
  },
  {
   "cell_type": "markdown",
   "metadata": {},
   "source": [
    "# XGBoost\n",
    "1. XGBoost is an implementation of gradient boosted decision trees designed for speed and performance that is tabular dataset better than Deep Neural Network (DNN)"
   ]
  },
  {
   "cell_type": "code",
   "execution_count": null,
   "metadata": {},
   "outputs": [],
   "source": [
    "from xgboost import XGBClassifier\n",
    "# read data\n",
    "from sklearn.datasets import load_iris\n",
    "from sklearn.model_selection import train_test_split\n",
    "data = load_iris()\n",
    "print(data[\"data\"].shape )\n",
    "X_train, X_test, y_train, y_test = train_test_split(data['data'], data['target'], test_size=.3)\n",
    "# create model instance\n",
    "bst = XGBClassifier(n_estimators=2, max_depth=2, learning_rate=1, objective='binary:logistic')\n",
    "# fit model\n",
    "bst.fit(X_train, y_train)\n",
    "# make predictions\n",
    "predictions = bst.predict(X_test)\n",
    "print(predictions)\n",
    "print(y_test)\n",
    "score = bst.score(X_test, y_test)\n",
    "print(score)\n",
    "cm = confusion_matrix(y_test, predictions, labels=decision_tree_classifier.classes_)\n",
    "disp = ConfusionMatrixDisplay(confusion_matrix=cm,\n",
    "                           display_labels=decision_tree_classifier.classes_)\n",
    "disp.plot()"
   ]
  },
  {
   "cell_type": "markdown",
   "metadata": {},
   "source": [
    "# Spacy "
   ]
  },
  {
   "cell_type": "markdown",
   "metadata": {},
   "source": [
    "# Install Spacy and download the English language model\n"
   ]
  },
  {
   "cell_type": "code",
   "execution_count": null,
   "metadata": {},
   "outputs": [],
   "source": [
    "if \"google.colab\" in sys.modules:\n",
    "    !pip install spacy"
   ]
  },
  {
   "cell_type": "markdown",
   "metadata": {},
   "source": [
    "## Spacy Part of Speech Tagging"
   ]
  },
  {
   "cell_type": "code",
   "execution_count": null,
   "metadata": {},
   "outputs": [],
   "source": [
    "import spacy\n",
    "import spacy\n",
    "from spacy import displacy\n",
    "nlp = spacy.load(\"en_core_web_sm\")\n",
    "doc = nlp(\"Apple is looking at buying U.K. startup for $1 billion\")\n",
    "\n",
    "# Rich example\n",
    "from rich.console import Console\n",
    "from rich.table import Table\n",
    "\n",
    "# Create a table\n",
    "table = Table(title=\"Spacu Part of Speech Tagging\")\n",
    "table.add_column(\"Text\", justify=\"center\", style=\"cyan\")\n",
    "table.add_column(\"lemma\", justify=\"center\")\n",
    "table.add_column(\"pos\", justify=\"center\")\n",
    "table.add_column(\"tag\", justify=\"center\")\n",
    "table.add_column(\"dependency\", justify=\"center\")\n",
    "for token in doc:\n",
    "    #print(token.text, token.lemma_, token.pos_, token.tag_, token.dep_,\n",
    "    #        token.shape_, token.is_alpha, token.is_stop)\n",
    "    table.add_row(token.text, token.lemma_, token.pos_, token.tag_, token.dep_)\n",
    "\n",
    "# Print the table\n",
    "console = Console()\n",
    "console.print(table)\n",
    "## === We can also use displacy to render the dependency graph ===\n",
    "\n",
    "if \"google.colab\" in sys.modules:\n",
    "    displacy.render(doc, style='dep', jupyter=True, options={'distance': 90})\n",
    "else:\n",
    "    displacy.render(doc, style=\"dep\")"
   ]
  },
  {
   "cell_type": "markdown",
   "metadata": {},
   "source": [
    "## Spacy Named Entity Recognition\n"
   ]
  },
  {
   "cell_type": "code",
   "execution_count": null,
   "metadata": {},
   "outputs": [],
   "source": [
    "import spacy\n",
    "from spacy import displacy\n",
    "\n",
    "text = \"When Sebastian Thrun started working on self-driving cars at Google in 2007, few people outside of the company took him seriously.\"\n",
    "\n",
    "doc = nlp(text)\n",
    "if \"google.colab\" in sys.modules:\n",
    "    displacy.render(doc, style='ent', jupyter=True, options={'distance': 90})\n",
    "else:\n",
    "    displacy.render(doc, style=\"ent\")"
   ]
  },
  {
   "cell_type": "markdown",
   "metadata": {},
   "source": [
    "# Datasets"
   ]
  },
  {
   "cell_type": "markdown",
   "metadata": {},
   "source": [
    "# Install Dataset Libraries"
   ]
  },
  {
   "cell_type": "code",
   "execution_count": null,
   "metadata": {},
   "outputs": [],
   "source": [
    "import sys\n",
    "if \"google.colab\" in sys.modules:\n",
    "  !pip install rich \n",
    "  !pip install datasets==\"2.9.0\"\n",
    "from datasets import list_datasets, load_dataset\n",
    "from rich import print\n",
    "# Print all the available datasets\n",
    "print(list_datasets()[:5])   "
   ]
  },
  {
   "cell_type": "markdown",
   "metadata": {},
   "source": [
    "## Download Text Classfication Dataset "
   ]
  },
  {
   "cell_type": "code",
   "execution_count": null,
   "metadata": {},
   "outputs": [],
   "source": [
    "from datasets import load_dataset\n",
    "\n",
    "\n",
    "\n",
    "tweet_eval_emotion = load_dataset(\"tweet_eval\", \"emotion\")\n",
    "\n",
    "## Peek at the dataset\n",
    "print(tweet_eval_emotion)\n",
    "\n",
    "# Print the first example from the training set\n",
    "print(tweet_eval_emotion[\"train\"][0])\n",
    "\n",
    "# Print the the labels of the dataset\n",
    "print( tweet_eval_emotion[\"train\"].features)\n",
    "\n"
   ]
  },
  {
   "cell_type": "markdown",
   "metadata": {},
   "source": [
    "## Stream Code from Huggging Face\n",
    "1. The dataset is over 100 GB, the only way to use the dataset is to stream it from Hugging Face's Dataset"
   ]
  },
  {
   "cell_type": "code",
   "execution_count": 16,
   "metadata": {},
   "outputs": [
    {
     "ename": "KeyboardInterrupt",
     "evalue": "",
     "output_type": "error",
     "traceback": [
      "\u001b[0;31m---------------------------------------------------------------------------\u001b[0m",
      "\u001b[0;31mKeyboardInterrupt\u001b[0m                         Traceback (most recent call last)",
      "\u001b[0;32m/tmp/ipykernel_18615/2728829734.py\u001b[0m in \u001b[0;36m<module>\u001b[0;34m\u001b[0m\n\u001b[1;32m      5\u001b[0m \u001b[0mpprint\u001b[0m\u001b[0;34m(\u001b[0m\u001b[0mnext\u001b[0m\u001b[0;34m(\u001b[0m\u001b[0miter\u001b[0m\u001b[0;34m(\u001b[0m\u001b[0mds\u001b[0m\u001b[0;34m)\u001b[0m\u001b[0;34m)\u001b[0m\u001b[0;34m)\u001b[0m\u001b[0;34m\u001b[0m\u001b[0;34m\u001b[0m\u001b[0m\n\u001b[1;32m      6\u001b[0m \u001b[0mpprint\u001b[0m\u001b[0;34m(\u001b[0m\u001b[0mnext\u001b[0m\u001b[0;34m(\u001b[0m\u001b[0miter\u001b[0m\u001b[0;34m(\u001b[0m\u001b[0mds\u001b[0m\u001b[0;34m)\u001b[0m\u001b[0;34m)\u001b[0m\u001b[0;34m)\u001b[0m\u001b[0;34m\u001b[0m\u001b[0;34m\u001b[0m\u001b[0m\n\u001b[0;32m----> 7\u001b[0;31m \u001b[0mpprint\u001b[0m\u001b[0;34m(\u001b[0m\u001b[0mnext\u001b[0m\u001b[0;34m(\u001b[0m\u001b[0miter\u001b[0m\u001b[0;34m(\u001b[0m\u001b[0mds\u001b[0m\u001b[0;34m)\u001b[0m\u001b[0;34m)\u001b[0m\u001b[0;34m[\u001b[0m\u001b[0;34m\"code\"\u001b[0m\u001b[0;34m]\u001b[0m\u001b[0;34m)\u001b[0m\u001b[0;34m\u001b[0m\u001b[0;34m\u001b[0m\u001b[0m\n\u001b[0m",
      "\u001b[0;32m~/miniconda3/envs/ais_workshop_2/lib/python3.7/site-packages/datasets/iterable_dataset.py\u001b[0m in \u001b[0;36m__iter__\u001b[0;34m(self)\u001b[0m\n\u001b[1;32m    915\u001b[0m                 \u001b[0;32mreturn\u001b[0m\u001b[0;34m\u001b[0m\u001b[0;34m\u001b[0m\u001b[0m\n\u001b[1;32m    916\u001b[0m \u001b[0;34m\u001b[0m\u001b[0m\n\u001b[0;32m--> 917\u001b[0;31m         \u001b[0;32mfor\u001b[0m \u001b[0mkey\u001b[0m\u001b[0;34m,\u001b[0m \u001b[0mexample\u001b[0m \u001b[0;32min\u001b[0m \u001b[0mex_iterable\u001b[0m\u001b[0;34m:\u001b[0m\u001b[0;34m\u001b[0m\u001b[0;34m\u001b[0m\u001b[0m\n\u001b[0m\u001b[1;32m    918\u001b[0m             \u001b[0;32mif\u001b[0m \u001b[0mself\u001b[0m\u001b[0;34m.\u001b[0m\u001b[0mfeatures\u001b[0m\u001b[0;34m:\u001b[0m\u001b[0;34m\u001b[0m\u001b[0;34m\u001b[0m\u001b[0m\n\u001b[1;32m    919\u001b[0m                 \u001b[0;31m# `IterableDataset` automatically fills missing columns with None.\u001b[0m\u001b[0;34m\u001b[0m\u001b[0;34m\u001b[0m\u001b[0;34m\u001b[0m\u001b[0m\n",
      "\u001b[0;32m~/miniconda3/envs/ais_workshop_2/lib/python3.7/site-packages/datasets/iterable_dataset.py\u001b[0m in \u001b[0;36m__iter__\u001b[0;34m(self)\u001b[0m\n\u001b[1;32m    111\u001b[0m \u001b[0;34m\u001b[0m\u001b[0m\n\u001b[1;32m    112\u001b[0m     \u001b[0;32mdef\u001b[0m \u001b[0m__iter__\u001b[0m\u001b[0;34m(\u001b[0m\u001b[0mself\u001b[0m\u001b[0;34m)\u001b[0m\u001b[0;34m:\u001b[0m\u001b[0;34m\u001b[0m\u001b[0;34m\u001b[0m\u001b[0m\n\u001b[0;32m--> 113\u001b[0;31m         \u001b[0;32myield\u001b[0m \u001b[0;32mfrom\u001b[0m \u001b[0mself\u001b[0m\u001b[0;34m.\u001b[0m\u001b[0mgenerate_examples_fn\u001b[0m\u001b[0;34m(\u001b[0m\u001b[0;34m**\u001b[0m\u001b[0mself\u001b[0m\u001b[0;34m.\u001b[0m\u001b[0mkwargs\u001b[0m\u001b[0;34m)\u001b[0m\u001b[0;34m\u001b[0m\u001b[0;34m\u001b[0m\u001b[0m\n\u001b[0m\u001b[1;32m    114\u001b[0m \u001b[0;34m\u001b[0m\u001b[0m\n\u001b[1;32m    115\u001b[0m     \u001b[0;32mdef\u001b[0m \u001b[0mshuffle_data_sources\u001b[0m\u001b[0;34m(\u001b[0m\u001b[0mself\u001b[0m\u001b[0;34m,\u001b[0m \u001b[0mgenerator\u001b[0m\u001b[0;34m:\u001b[0m \u001b[0mnp\u001b[0m\u001b[0;34m.\u001b[0m\u001b[0mrandom\u001b[0m\u001b[0;34m.\u001b[0m\u001b[0mGenerator\u001b[0m\u001b[0;34m)\u001b[0m \u001b[0;34m->\u001b[0m \u001b[0;34m\"ExamplesIterable\"\u001b[0m\u001b[0;34m:\u001b[0m\u001b[0;34m\u001b[0m\u001b[0;34m\u001b[0m\u001b[0m\n",
      "\u001b[0;32m~/.cache/huggingface/modules/datasets_modules/datasets/codeparrot--github-code/707f9a29dc25137d4e27b954d3c7304afa607f0d51b1fa5ef526e8dc51beeaae/github-code.py\u001b[0m in \u001b[0;36m_generate_examples\u001b[0;34m(self, files)\u001b[0m\n\u001b[1;32m    179\u001b[0m             \u001b[0;32mwith\u001b[0m \u001b[0mopen\u001b[0m\u001b[0;34m(\u001b[0m\u001b[0mfile\u001b[0m\u001b[0;34m,\u001b[0m \u001b[0;34m\"rb\"\u001b[0m\u001b[0;34m)\u001b[0m \u001b[0;32mas\u001b[0m \u001b[0mf\u001b[0m\u001b[0;34m:\u001b[0m\u001b[0;34m\u001b[0m\u001b[0;34m\u001b[0m\u001b[0m\n\u001b[1;32m    180\u001b[0m                 \u001b[0mparquet_file\u001b[0m \u001b[0;34m=\u001b[0m \u001b[0mpq\u001b[0m\u001b[0;34m.\u001b[0m\u001b[0mParquetFile\u001b[0m\u001b[0;34m(\u001b[0m\u001b[0mf\u001b[0m\u001b[0;34m)\u001b[0m\u001b[0;34m\u001b[0m\u001b[0;34m\u001b[0m\u001b[0m\n\u001b[0;32m--> 181\u001b[0;31m                 \u001b[0;32mfor\u001b[0m \u001b[0mbatch_idx\u001b[0m\u001b[0;34m,\u001b[0m \u001b[0mrecord_batch\u001b[0m \u001b[0;32min\u001b[0m \u001b[0menumerate\u001b[0m\u001b[0;34m(\u001b[0m\u001b[0mparquet_file\u001b[0m\u001b[0;34m.\u001b[0m\u001b[0miter_batches\u001b[0m\u001b[0;34m(\u001b[0m\u001b[0mbatch_size\u001b[0m\u001b[0;34m=\u001b[0m\u001b[0;36m10_000\u001b[0m\u001b[0;34m)\u001b[0m\u001b[0;34m)\u001b[0m\u001b[0;34m:\u001b[0m\u001b[0;34m\u001b[0m\u001b[0;34m\u001b[0m\u001b[0m\n\u001b[0m\u001b[1;32m    182\u001b[0m                     \u001b[0mpa_table\u001b[0m \u001b[0;34m=\u001b[0m \u001b[0mpa\u001b[0m\u001b[0;34m.\u001b[0m\u001b[0mTable\u001b[0m\u001b[0;34m.\u001b[0m\u001b[0mfrom_batches\u001b[0m\u001b[0;34m(\u001b[0m\u001b[0;34m[\u001b[0m\u001b[0mrecord_batch\u001b[0m\u001b[0;34m]\u001b[0m\u001b[0;34m)\u001b[0m\u001b[0;34m\u001b[0m\u001b[0;34m\u001b[0m\u001b[0m\n\u001b[1;32m    183\u001b[0m                     \u001b[0;32mfor\u001b[0m \u001b[0mrow_index\u001b[0m \u001b[0;32min\u001b[0m \u001b[0mrange\u001b[0m\u001b[0;34m(\u001b[0m\u001b[0mpa_table\u001b[0m\u001b[0;34m.\u001b[0m\u001b[0mnum_rows\u001b[0m\u001b[0;34m)\u001b[0m\u001b[0;34m:\u001b[0m\u001b[0;34m\u001b[0m\u001b[0;34m\u001b[0m\u001b[0m\n",
      "\u001b[0;32m~/miniconda3/envs/ais_workshop_2/lib/python3.7/site-packages/pyarrow/_parquet.pyx\u001b[0m in \u001b[0;36miter_batches\u001b[0;34m()\u001b[0m\n",
      "\u001b[0;32m~/miniconda3/envs/ais_workshop_2/lib/python3.7/site-packages/datasets/download/streaming_download_manager.py\u001b[0m in \u001b[0;36mread_with_retries\u001b[0;34m(*args, **kwargs)\u001b[0m\n\u001b[1;32m    370\u001b[0m         \u001b[0;32mfor\u001b[0m \u001b[0mretry\u001b[0m \u001b[0;32min\u001b[0m \u001b[0mrange\u001b[0m\u001b[0;34m(\u001b[0m\u001b[0;36m1\u001b[0m\u001b[0;34m,\u001b[0m \u001b[0mmax_retries\u001b[0m \u001b[0;34m+\u001b[0m \u001b[0;36m1\u001b[0m\u001b[0;34m)\u001b[0m\u001b[0;34m:\u001b[0m\u001b[0;34m\u001b[0m\u001b[0;34m\u001b[0m\u001b[0m\n\u001b[1;32m    371\u001b[0m             \u001b[0;32mtry\u001b[0m\u001b[0;34m:\u001b[0m\u001b[0;34m\u001b[0m\u001b[0;34m\u001b[0m\u001b[0m\n\u001b[0;32m--> 372\u001b[0;31m                 \u001b[0mout\u001b[0m \u001b[0;34m=\u001b[0m \u001b[0mread\u001b[0m\u001b[0;34m(\u001b[0m\u001b[0;34m*\u001b[0m\u001b[0margs\u001b[0m\u001b[0;34m,\u001b[0m \u001b[0;34m**\u001b[0m\u001b[0mkwargs\u001b[0m\u001b[0;34m)\u001b[0m\u001b[0;34m\u001b[0m\u001b[0;34m\u001b[0m\u001b[0m\n\u001b[0m\u001b[1;32m    373\u001b[0m                 \u001b[0;32mbreak\u001b[0m\u001b[0;34m\u001b[0m\u001b[0;34m\u001b[0m\u001b[0m\n\u001b[1;32m    374\u001b[0m             \u001b[0;32mexcept\u001b[0m \u001b[0;34m(\u001b[0m\u001b[0mClientError\u001b[0m\u001b[0;34m,\u001b[0m \u001b[0mTimeoutError\u001b[0m\u001b[0;34m)\u001b[0m \u001b[0;32mas\u001b[0m \u001b[0merr\u001b[0m\u001b[0;34m:\u001b[0m\u001b[0;34m\u001b[0m\u001b[0;34m\u001b[0m\u001b[0m\n",
      "\u001b[0;32m~/miniconda3/envs/ais_workshop_2/lib/python3.7/site-packages/fsspec/implementations/http.py\u001b[0m in \u001b[0;36mread\u001b[0;34m(self, length)\u001b[0m\n\u001b[1;32m    588\u001b[0m         \u001b[0;32melse\u001b[0m\u001b[0;34m:\u001b[0m\u001b[0;34m\u001b[0m\u001b[0;34m\u001b[0m\u001b[0m\n\u001b[1;32m    589\u001b[0m             \u001b[0mlength\u001b[0m \u001b[0;34m=\u001b[0m \u001b[0mmin\u001b[0m\u001b[0;34m(\u001b[0m\u001b[0mself\u001b[0m\u001b[0;34m.\u001b[0m\u001b[0msize\u001b[0m \u001b[0;34m-\u001b[0m \u001b[0mself\u001b[0m\u001b[0;34m.\u001b[0m\u001b[0mloc\u001b[0m\u001b[0;34m,\u001b[0m \u001b[0mlength\u001b[0m\u001b[0;34m)\u001b[0m\u001b[0;34m\u001b[0m\u001b[0;34m\u001b[0m\u001b[0m\n\u001b[0;32m--> 590\u001b[0;31m         \u001b[0;32mreturn\u001b[0m \u001b[0msuper\u001b[0m\u001b[0;34m(\u001b[0m\u001b[0;34m)\u001b[0m\u001b[0;34m.\u001b[0m\u001b[0mread\u001b[0m\u001b[0;34m(\u001b[0m\u001b[0mlength\u001b[0m\u001b[0;34m)\u001b[0m\u001b[0;34m\u001b[0m\u001b[0;34m\u001b[0m\u001b[0m\n\u001b[0m\u001b[1;32m    591\u001b[0m \u001b[0;34m\u001b[0m\u001b[0m\n\u001b[1;32m    592\u001b[0m     \u001b[0;32masync\u001b[0m \u001b[0;32mdef\u001b[0m \u001b[0masync_fetch_all\u001b[0m\u001b[0;34m(\u001b[0m\u001b[0mself\u001b[0m\u001b[0;34m)\u001b[0m\u001b[0;34m:\u001b[0m\u001b[0;34m\u001b[0m\u001b[0;34m\u001b[0m\u001b[0m\n",
      "\u001b[0;32m~/miniconda3/envs/ais_workshop_2/lib/python3.7/site-packages/fsspec/spec.py\u001b[0m in \u001b[0;36mread\u001b[0;34m(self, length)\u001b[0m\n\u001b[1;32m   1653\u001b[0m             \u001b[0;31m# don't even bother calling fetch\u001b[0m\u001b[0;34m\u001b[0m\u001b[0;34m\u001b[0m\u001b[0;34m\u001b[0m\u001b[0m\n\u001b[1;32m   1654\u001b[0m             \u001b[0;32mreturn\u001b[0m \u001b[0;34mb\"\"\u001b[0m\u001b[0;34m\u001b[0m\u001b[0;34m\u001b[0m\u001b[0m\n\u001b[0;32m-> 1655\u001b[0;31m         \u001b[0mout\u001b[0m \u001b[0;34m=\u001b[0m \u001b[0mself\u001b[0m\u001b[0;34m.\u001b[0m\u001b[0mcache\u001b[0m\u001b[0;34m.\u001b[0m\u001b[0m_fetch\u001b[0m\u001b[0;34m(\u001b[0m\u001b[0mself\u001b[0m\u001b[0;34m.\u001b[0m\u001b[0mloc\u001b[0m\u001b[0;34m,\u001b[0m \u001b[0mself\u001b[0m\u001b[0;34m.\u001b[0m\u001b[0mloc\u001b[0m \u001b[0;34m+\u001b[0m \u001b[0mlength\u001b[0m\u001b[0;34m)\u001b[0m\u001b[0;34m\u001b[0m\u001b[0;34m\u001b[0m\u001b[0m\n\u001b[0m\u001b[1;32m   1656\u001b[0m         \u001b[0mself\u001b[0m\u001b[0;34m.\u001b[0m\u001b[0mloc\u001b[0m \u001b[0;34m+=\u001b[0m \u001b[0mlen\u001b[0m\u001b[0;34m(\u001b[0m\u001b[0mout\u001b[0m\u001b[0;34m)\u001b[0m\u001b[0;34m\u001b[0m\u001b[0;34m\u001b[0m\u001b[0m\n\u001b[1;32m   1657\u001b[0m         \u001b[0;32mreturn\u001b[0m \u001b[0mout\u001b[0m\u001b[0;34m\u001b[0m\u001b[0;34m\u001b[0m\u001b[0m\n",
      "\u001b[0;32m~/miniconda3/envs/ais_workshop_2/lib/python3.7/site-packages/fsspec/caching.py\u001b[0m in \u001b[0;36m_fetch\u001b[0;34m(self, start, end)\u001b[0m\n\u001b[1;32m    389\u001b[0m                 \u001b[0;32mpass\u001b[0m\u001b[0;34m\u001b[0m\u001b[0;34m\u001b[0m\u001b[0m\n\u001b[1;32m    390\u001b[0m             \u001b[0;32melif\u001b[0m \u001b[0mend\u001b[0m \u001b[0;34m-\u001b[0m \u001b[0mself\u001b[0m\u001b[0;34m.\u001b[0m\u001b[0mend\u001b[0m \u001b[0;34m>\u001b[0m \u001b[0mself\u001b[0m\u001b[0;34m.\u001b[0m\u001b[0mblocksize\u001b[0m\u001b[0;34m:\u001b[0m\u001b[0;34m\u001b[0m\u001b[0;34m\u001b[0m\u001b[0m\n\u001b[0;32m--> 391\u001b[0;31m                 \u001b[0mself\u001b[0m\u001b[0;34m.\u001b[0m\u001b[0mcache\u001b[0m \u001b[0;34m=\u001b[0m \u001b[0mself\u001b[0m\u001b[0;34m.\u001b[0m\u001b[0mfetcher\u001b[0m\u001b[0;34m(\u001b[0m\u001b[0mstart\u001b[0m\u001b[0;34m,\u001b[0m \u001b[0mbend\u001b[0m\u001b[0;34m)\u001b[0m\u001b[0;34m\u001b[0m\u001b[0;34m\u001b[0m\u001b[0m\n\u001b[0m\u001b[1;32m    392\u001b[0m                 \u001b[0mself\u001b[0m\u001b[0;34m.\u001b[0m\u001b[0mstart\u001b[0m \u001b[0;34m=\u001b[0m \u001b[0mstart\u001b[0m\u001b[0;34m\u001b[0m\u001b[0;34m\u001b[0m\u001b[0m\n\u001b[1;32m    393\u001b[0m             \u001b[0;32melse\u001b[0m\u001b[0;34m:\u001b[0m\u001b[0;34m\u001b[0m\u001b[0;34m\u001b[0m\u001b[0m\n",
      "\u001b[0;32m~/miniconda3/envs/ais_workshop_2/lib/python3.7/site-packages/fsspec/asyn.py\u001b[0m in \u001b[0;36mwrapper\u001b[0;34m(*args, **kwargs)\u001b[0m\n\u001b[1;32m    111\u001b[0m     \u001b[0;32mdef\u001b[0m \u001b[0mwrapper\u001b[0m\u001b[0;34m(\u001b[0m\u001b[0;34m*\u001b[0m\u001b[0margs\u001b[0m\u001b[0;34m,\u001b[0m \u001b[0;34m**\u001b[0m\u001b[0mkwargs\u001b[0m\u001b[0;34m)\u001b[0m\u001b[0;34m:\u001b[0m\u001b[0;34m\u001b[0m\u001b[0;34m\u001b[0m\u001b[0m\n\u001b[1;32m    112\u001b[0m         \u001b[0mself\u001b[0m \u001b[0;34m=\u001b[0m \u001b[0mobj\u001b[0m \u001b[0;32mor\u001b[0m \u001b[0margs\u001b[0m\u001b[0;34m[\u001b[0m\u001b[0;36m0\u001b[0m\u001b[0;34m]\u001b[0m\u001b[0;34m\u001b[0m\u001b[0;34m\u001b[0m\u001b[0m\n\u001b[0;32m--> 113\u001b[0;31m         \u001b[0;32mreturn\u001b[0m \u001b[0msync\u001b[0m\u001b[0;34m(\u001b[0m\u001b[0mself\u001b[0m\u001b[0;34m.\u001b[0m\u001b[0mloop\u001b[0m\u001b[0;34m,\u001b[0m \u001b[0mfunc\u001b[0m\u001b[0;34m,\u001b[0m \u001b[0;34m*\u001b[0m\u001b[0margs\u001b[0m\u001b[0;34m,\u001b[0m \u001b[0;34m**\u001b[0m\u001b[0mkwargs\u001b[0m\u001b[0;34m)\u001b[0m\u001b[0;34m\u001b[0m\u001b[0;34m\u001b[0m\u001b[0m\n\u001b[0m\u001b[1;32m    114\u001b[0m \u001b[0;34m\u001b[0m\u001b[0m\n\u001b[1;32m    115\u001b[0m     \u001b[0;32mreturn\u001b[0m \u001b[0mwrapper\u001b[0m\u001b[0;34m\u001b[0m\u001b[0;34m\u001b[0m\u001b[0m\n",
      "\u001b[0;32m~/miniconda3/envs/ais_workshop_2/lib/python3.7/site-packages/fsspec/asyn.py\u001b[0m in \u001b[0;36msync\u001b[0;34m(loop, func, timeout, *args, **kwargs)\u001b[0m\n\u001b[1;32m     84\u001b[0m     \u001b[0;32mwhile\u001b[0m \u001b[0;32mTrue\u001b[0m\u001b[0;34m:\u001b[0m\u001b[0;34m\u001b[0m\u001b[0;34m\u001b[0m\u001b[0m\n\u001b[1;32m     85\u001b[0m         \u001b[0;31m# this loops allows thread to get interrupted\u001b[0m\u001b[0;34m\u001b[0m\u001b[0;34m\u001b[0m\u001b[0;34m\u001b[0m\u001b[0m\n\u001b[0;32m---> 86\u001b[0;31m         \u001b[0;32mif\u001b[0m \u001b[0mevent\u001b[0m\u001b[0;34m.\u001b[0m\u001b[0mwait\u001b[0m\u001b[0;34m(\u001b[0m\u001b[0;36m1\u001b[0m\u001b[0;34m)\u001b[0m\u001b[0;34m:\u001b[0m\u001b[0;34m\u001b[0m\u001b[0;34m\u001b[0m\u001b[0m\n\u001b[0m\u001b[1;32m     87\u001b[0m             \u001b[0;32mbreak\u001b[0m\u001b[0;34m\u001b[0m\u001b[0;34m\u001b[0m\u001b[0m\n\u001b[1;32m     88\u001b[0m         \u001b[0;32mif\u001b[0m \u001b[0mtimeout\u001b[0m \u001b[0;32mis\u001b[0m \u001b[0;32mnot\u001b[0m \u001b[0;32mNone\u001b[0m\u001b[0;34m:\u001b[0m\u001b[0;34m\u001b[0m\u001b[0;34m\u001b[0m\u001b[0m\n",
      "\u001b[0;32m~/miniconda3/envs/ais_workshop_2/lib/python3.7/threading.py\u001b[0m in \u001b[0;36mwait\u001b[0;34m(self, timeout)\u001b[0m\n\u001b[1;32m    550\u001b[0m             \u001b[0msignaled\u001b[0m \u001b[0;34m=\u001b[0m \u001b[0mself\u001b[0m\u001b[0;34m.\u001b[0m\u001b[0m_flag\u001b[0m\u001b[0;34m\u001b[0m\u001b[0;34m\u001b[0m\u001b[0m\n\u001b[1;32m    551\u001b[0m             \u001b[0;32mif\u001b[0m \u001b[0;32mnot\u001b[0m \u001b[0msignaled\u001b[0m\u001b[0;34m:\u001b[0m\u001b[0;34m\u001b[0m\u001b[0;34m\u001b[0m\u001b[0m\n\u001b[0;32m--> 552\u001b[0;31m                 \u001b[0msignaled\u001b[0m \u001b[0;34m=\u001b[0m \u001b[0mself\u001b[0m\u001b[0;34m.\u001b[0m\u001b[0m_cond\u001b[0m\u001b[0;34m.\u001b[0m\u001b[0mwait\u001b[0m\u001b[0;34m(\u001b[0m\u001b[0mtimeout\u001b[0m\u001b[0;34m)\u001b[0m\u001b[0;34m\u001b[0m\u001b[0;34m\u001b[0m\u001b[0m\n\u001b[0m\u001b[1;32m    553\u001b[0m             \u001b[0;32mreturn\u001b[0m \u001b[0msignaled\u001b[0m\u001b[0;34m\u001b[0m\u001b[0;34m\u001b[0m\u001b[0m\n\u001b[1;32m    554\u001b[0m \u001b[0;34m\u001b[0m\u001b[0m\n",
      "\u001b[0;32m~/miniconda3/envs/ais_workshop_2/lib/python3.7/threading.py\u001b[0m in \u001b[0;36mwait\u001b[0;34m(self, timeout)\u001b[0m\n\u001b[1;32m    298\u001b[0m             \u001b[0;32melse\u001b[0m\u001b[0;34m:\u001b[0m\u001b[0;34m\u001b[0m\u001b[0;34m\u001b[0m\u001b[0m\n\u001b[1;32m    299\u001b[0m                 \u001b[0;32mif\u001b[0m \u001b[0mtimeout\u001b[0m \u001b[0;34m>\u001b[0m \u001b[0;36m0\u001b[0m\u001b[0;34m:\u001b[0m\u001b[0;34m\u001b[0m\u001b[0;34m\u001b[0m\u001b[0m\n\u001b[0;32m--> 300\u001b[0;31m                     \u001b[0mgotit\u001b[0m \u001b[0;34m=\u001b[0m \u001b[0mwaiter\u001b[0m\u001b[0;34m.\u001b[0m\u001b[0macquire\u001b[0m\u001b[0;34m(\u001b[0m\u001b[0;32mTrue\u001b[0m\u001b[0;34m,\u001b[0m \u001b[0mtimeout\u001b[0m\u001b[0;34m)\u001b[0m\u001b[0;34m\u001b[0m\u001b[0;34m\u001b[0m\u001b[0m\n\u001b[0m\u001b[1;32m    301\u001b[0m                 \u001b[0;32melse\u001b[0m\u001b[0;34m:\u001b[0m\u001b[0;34m\u001b[0m\u001b[0;34m\u001b[0m\u001b[0m\n\u001b[1;32m    302\u001b[0m                     \u001b[0mgotit\u001b[0m \u001b[0;34m=\u001b[0m \u001b[0mwaiter\u001b[0m\u001b[0;34m.\u001b[0m\u001b[0macquire\u001b[0m\u001b[0;34m(\u001b[0m\u001b[0;32mFalse\u001b[0m\u001b[0;34m)\u001b[0m\u001b[0;34m\u001b[0m\u001b[0;34m\u001b[0m\u001b[0m\n",
      "\u001b[0;31mKeyboardInterrupt\u001b[0m: "
     ]
    }
   ],
   "source": [
    "from datasets import load_dataset\n",
    "from rich.pretty import pprint\n",
    "\n",
    "ds = load_dataset(\"codeparrot/github-code\", streaming=True, split=\"train\")\n",
    "pprint(next(iter(ds)))\n",
    "pprint(next(iter(ds)))\n",
    "pprint(next(iter(ds))[\"code\"])"
   ]
  },
  {
   "cell_type": "markdown",
   "metadata": {},
   "source": [
    "## Computer Vision Dataset on HG"
   ]
  },
  {
   "cell_type": "code",
   "execution_count": 17,
   "metadata": {},
   "outputs": [
    {
     "name": "stderr",
     "output_type": "stream",
     "text": [
      "Found cached dataset pokemon-classification (/home/null/.cache/huggingface/datasets/keremberke___pokemon-classification/mini/1.0.0/5193d0f863ed08164636296506df483caa6c9965bc05198ec2136417398e4b28)\n"
     ]
    },
    {
     "data": {
      "text/html": [
       "<pre style=\"white-space:pre;overflow-x:auto;line-height:normal;font-family:Menlo,'DejaVu Sans Mono',consolas,'Courier New',monospace\"><span style=\"color: #800080; text-decoration-color: #800080; font-weight: bold\">Dataset</span><span style=\"font-weight: bold\">({</span>\n",
       "    features: <span style=\"font-weight: bold\">[</span><span style=\"color: #008000; text-decoration-color: #008000\">'image_file_path'</span>, <span style=\"color: #008000; text-decoration-color: #008000\">'image'</span>, <span style=\"color: #008000; text-decoration-color: #008000\">'labels'</span><span style=\"font-weight: bold\">]</span>,\n",
       "    num_rows: <span style=\"color: #008080; text-decoration-color: #008080; font-weight: bold\">70</span>\n",
       "<span style=\"font-weight: bold\">})</span>\n",
       "</pre>\n"
      ],
      "text/plain": [
       "\u001b[1;35mDataset\u001b[0m\u001b[1m(\u001b[0m\u001b[1m{\u001b[0m\n",
       "    features: \u001b[1m[\u001b[0m\u001b[32m'image_file_path'\u001b[0m, \u001b[32m'image'\u001b[0m, \u001b[32m'labels'\u001b[0m\u001b[1m]\u001b[0m,\n",
       "    num_rows: \u001b[1;36m70\u001b[0m\n",
       "\u001b[1m}\u001b[0m\u001b[1m)\u001b[0m\n"
      ]
     },
     "metadata": {},
     "output_type": "display_data"
    }
   ],
   "source": [
    "from datasets import load_dataset\n",
    "\n",
    "\n",
    "pokemon_dataset = load_dataset(\"keremberke/pokemon-classification\" , \"mini\" , split=\"train\")\n",
    "print(pokemon_dataset)"
   ]
  },
  {
   "cell_type": "code",
   "execution_count": 24,
   "metadata": {},
   "outputs": [
    {
     "data": {
      "text/html": [
       "<pre style=\"white-space:pre;overflow-x:auto;line-height:normal;font-family:Menlo,'DejaVu Sans Mono',consolas,'Courier New',monospace\">The image does work\n",
       "</pre>\n"
      ],
      "text/plain": [
       "The image does work\n"
      ]
     },
     "metadata": {},
     "output_type": "display_data"
    },
    {
     "data": {
      "image/png": "[encoded data removed]",
      "text/plain": [
       "<PIL.JpegImagePlugin.JpegImageFile image mode=RGB size=224x224>"
      ]
     },
     "execution_count": 24,
     "metadata": {},
     "output_type": "execute_result"
    }
   ],
   "source": [
    "# View the PIL.JpegImage\n",
    "from PIL import Image\n",
    "image = None\n",
    "try:\n",
    "    image = Image.open(pokemon_dataset[2][\"image_file_path\"])\n",
    "    print(f\"The image does work\")\n",
    "except Exception as e:\n",
    "    print(\"The image does not work\")\n",
    "    print(e)\n",
    "image"
   ]
  },
  {
   "cell_type": "markdown",
   "metadata": {},
   "source": [
    "## Audio Dataset on HG\n",
    "1. LibriSpeech is a standard large-scale dataset for evaluating ASR systems. It consists of approximately 1,000 hours of narrated audiobooks collected from the LibriVox project. LibriSpeech has been instrumental in facilitating researchers to leverage a large body of pre-existing transcribed speech data. As such, it has become one of the most popular datasets for benchmarking academic speech systems.\n",
    "2. The dataset is huge so we have to stream which is common for audio datasets\n",
    "3. To learn more about [Audio Dataset on Hugging Face Hub](https://huggingface.co/blog/audio-datasets#easy-to-load-easy-to-process)\n"
   ]
  },
  {
   "cell_type": "code",
   "execution_count": null,
   "metadata": {},
   "outputs": [],
   "source": [
    "from datasets import load_dataset, Audio\n",
    "\n",
    "librispeech = load_dataset(\"librispeech_asr\", \"clean\" , streaming = True)\n",
    "\n",
    "\n",
    "\n",
    "\n",
    "#import IPython.display as ipd\n",
    "#ipd.Audio('audio/conga_groove.wav') # load a local WAV file"
   ]
  },
  {
   "cell_type": "code",
   "execution_count": null,
   "metadata": {},
   "outputs": [],
   "source": [
    "first_examle = next(iter(librispeech))\n",
    "print(first_examle)\n",
    "second_example = next(iter(librispeech))\n",
    "print(second_example)"
   ]
  },
  {
   "cell_type": "markdown",
   "metadata": {},
   "source": [
    "# Tensorflow "
   ]
  },
  {
   "cell_type": "markdown",
   "metadata": {},
   "source": [
    "## How to to classify images using TensorFlow Keras\n",
    "1.  Download a Cifar 10 Dataset from [here](https://www.cs.toronto.edu/~kriz/cifar.html)\n",
    "2. Create Multi-Layer Perceptron (MLP) model using Tensorflow Keras\n",
    "3. Train the MLP model using the Cifar 10 Dataset "
   ]
  },
  {
   "cell_type": "code",
   "execution_count": null,
   "metadata": {},
   "outputs": [],
   "source": [
    "# TensorFlow example\n",
    "import tensorflow as tf\n",
    "cifar_10 = tf.keras.datasets.cifar10\n",
    "(x_train, y_train), (x_test, y_test) =  cifar_10.load_data()\n",
    "x_train, x_test = x_train / 255.0, x_test / 255.0\n",
    "## Create a MLP where the first layer is a Flatten layer has 32 * 32 * 3 = 3072 neurons\n",
    "## The second layer has 128 neurons and the last layer has 10 neurons\n",
    "model = tf.keras.models.Sequential([\n",
    "    tf.keras.layers.Flatten(input_shape= (32, 32, 3)),\n",
    "    tf.keras.layers.Dense(128, activation='relu'),\n",
    "    tf.keras.layers.Dense(10, activation='softmax')\n",
    "])\n",
    "model.compile(optimizer='adam', loss='sparse_categorical_crossentropy', metrics=['accuracy'])\n",
    "model.fit(x_train, y_train, epochs=5)\n",
    "##  If you are using a gpu then remove the model from gpu use. \n",
    "tf.keras.backend.clear_session()"
   ]
  },
  {
   "cell_type": "markdown",
   "metadata": {},
   "source": [
    "# PyTorch \n",
    "1. PyTorch is an open source machine learning library based on the Torch library, used for applications such as computer vision and natural language processing, primarily developed by Facebook's AI Research lab (FAIR). It is free and open-source software released under the Modified BSD license."
   ]
  },
  {
   "cell_type": "markdown",
   "metadata": {},
   "source": [
    "## Use PyTorch to Classify the Same Dataset which is Cifar10\n",
    "1. Download the same Cifar 10 Dataset from [here](https://www.cs.toronto.edu/~kriz/cifar.html)\n",
    "2. Create a Convoluted Neural Network (CNN) model using PyTorch\n",
    "3. Train the CNN model using the Cifar 10 Dataset\n",
    "    3.1 Set the Optimizer to SGD\n",
    "    3.2 Set the Loss Function to Cross Entropy Loss"
   ]
  },
  {
   "cell_type": "markdown",
   "metadata": {},
   "source": [
    "### Createa the Neural Network Model"
   ]
  },
  {
   "cell_type": "code",
   "execution_count": null,
   "metadata": {},
   "outputs": [],
   "source": [
    "# PyTorch example\n",
    "import torch\n",
    "import torch.nn as nn\n",
    "import torchvision \n",
    "import torchvision.transforms as transforms\n",
    "import torch.nn as nn\n",
    "import torch.nn.functional as F\n",
    "\n",
    "\n",
    "# Create a MLP where the first layer is a Flatten layer has 32 * 32 * 3 = 3072 neurons\n",
    "# The second layer has 128 neurons and the last layer has 10 neurons\n",
    "class Net(nn.Module):\n",
    "    def __init__(self):\n",
    "        super().__init__()\n",
    "        self.model = nn.Sequential(\n",
    "            nn.Flatten(),\n",
    "            nn.Linear(32*32*3, 128),\n",
    "            nn.ReLU(),\n",
    "            nn.Linear(128, 10),\n",
    "        )\n",
    "    def forward(self, x):\n",
    "        return self.model(x)"
   ]
  },
  {
   "cell_type": "code",
   "execution_count": null,
   "metadata": {},
   "outputs": [],
   "source": [
    "\n",
    "net = Net()\n",
    "# Transform the data to tensors and normalize the data to have mean 0 and std 1\n",
    "transform = transforms.Compose(\n",
    "    [transforms.ToTensor(),\n",
    "     transforms.Normalize((0.5, 0.5, 0.5), (0.5, 0.5, 0.5))])\n",
    "batch_size = 32\n",
    "# Load the data and feed into a dataloader\n",
    "trainset = torchvision.datasets.CIFAR10(root='./data', train=True,\n",
    "                                        download=True, transform=transform)\n",
    "trainloader = torch.utils.data.DataLoader(trainset, batch_size=batch_size,\n",
    "                                          shuffle=True, num_workers=2)\n",
    "\n",
    "testset = torchvision.datasets.CIFAR10(root='./data', train=False,\n",
    "                                       download=True, transform=transform)\n",
    "testloader = torch.utils.data.DataLoader(testset, batch_size=batch_size,\n",
    "                                         shuffle=False, num_workers=2)\n",
    "# The classes of the dataset\n",
    "classes = ('plane', 'car', 'bird', 'cat',\n",
    "           'deer', 'dog', 'frog', 'horse', 'ship', 'truck')\n",
    "\n",
    "# Define the loss function \n",
    "criterion = nn.CrossEntropyLoss()\n",
    "optimizer = torch.optim.AdamW( net.parameters()  )\n",
    "\n",
    "# Train the model\n",
    "for epoch in range(2):  # loop over the dataset multiple times\n",
    "    running_loss = 0.0\n",
    "    for i, data in enumerate(trainloader, 0):\n",
    "        # get the inputs; data is a list of [inputs, labels]\n",
    "        inputs, labels = data\n",
    "\n",
    "        # zero the gradients before running the backaward pass\n",
    "        optimizer.zero_grad()\n",
    "        # ===================forward=====================\n",
    "        outputs = net(inputs)\n",
    "        loss = criterion(outputs, labels)\n",
    "        # ===================backward====================\n",
    "        \n",
    "        #Backward pass to compte teh gradients of loow.wrt our learable param\n",
    "        loss.backward()\n",
    "        \n",
    "        # Update the Pararameters\n",
    "        optimizer.step()\n",
    "\n",
    "        # print statistics\n",
    "        running_loss += loss.item()\n",
    "        if i % 2000 == 1999:    # print every 2000 mini-batches\n",
    "            print('[%d, %5d] loss: %.3f' %\n",
    "                  (epoch + 1, i + 1, running_loss / 2000))\n",
    "            running_loss = 0.0\n",
    "print('Finished Training')"
   ]
  },
  {
   "cell_type": "markdown",
   "metadata": {},
   "source": [
    "# GPU check\n",
    "First, please make sure you are using a GPU runtime to run this notebook, so inference is much faster. If the following command fails, use the `Runtime` menu above and select `Change runtime type`.\n",
    "- This is necssary to run the code in this notebook becuase PyTorch and Tensorflow are GPU accelerated libraries"
   ]
  },
  {
   "cell_type": "code",
   "execution_count": null,
   "metadata": {},
   "outputs": [],
   "source": [
    "## Enable CuDNN auto-tuner\n",
    "import torch\n",
    "if torch.cuda.is_available():\n",
    "    torch.backends.cudnn.benchmark = True\n",
    "## Use tf32 insteadf of fp32 ( on Ampere GPUs) and later Cuda Devices\n",
    "import torch\n",
    "if torch.cuda.is_available():\n",
    "    torch.backends.cuda.matmul.allow_tf32 = True"
   ]
  },
  {
   "cell_type": "markdown",
   "metadata": {},
   "source": [
    "# Set the seed for reproducibility"
   ]
  },
  {
   "cell_type": "code",
   "execution_count": null,
   "metadata": {},
   "outputs": [],
   "source": [
    "def seed_everything(seed: int):\n",
    "    import random, os\n",
    "    import numpy as np\n",
    "    import torch\n",
    "    \n",
    "    random.seed(seed)\n",
    "    os.environ['PYTHONHASHSEED'] = str(seed)\n",
    "    np.random.seed(seed)\n",
    "    torch.manual_seed(seed)\n",
    "    if torch.cuda.is_available():\n",
    "        torch.cuda.manual_seed(seed)\n",
    "        torch.backends.cudnn.deterministic = True\n",
    "        torch.backends.cudnn.benchmark = True\n",
    "seed_everything(42)"
   ]
  },
  {
   "cell_type": "markdown",
   "metadata": {},
   "source": [
    "# Auto ML Libraries"
   ]
  },
  {
   "cell_type": "markdown",
   "metadata": {},
   "source": [
    "## Optuna"
   ]
  },
  {
   "cell_type": "markdown",
   "metadata": {},
   "source": [
    "###  Install Optuna"
   ]
  },
  {
   "cell_type": "code",
   "execution_count": null,
   "metadata": {},
   "outputs": [],
   "source": [
    "import sys\n",
    "if \"google.colab\" in sys.modules:\n",
    "    try:\n",
    "        !pip install optuna\n",
    "        !pip install numpy\n",
    "    except Exception as e:\n",
    "        print(e)\n",
    "        print(\"There was an error installing optuna\")\n",
    "        pass"
   ]
  },
  {
   "cell_type": "markdown",
   "metadata": {},
   "source": [
    "### Use Optuna to find the minimum of a function"
   ]
  },
  {
   "cell_type": "code",
   "execution_count": null,
   "metadata": {},
   "outputs": [],
   "source": [
    "import optuna\n",
    "import seaborn as sns\n",
    "import numpy as np\n",
    "# Define the function to be minimized\n",
    "def f(x):\n",
    "    return x**2 + 10*np.sin(x)\n",
    "## Create a seaborn plot of the function abov\n",
    "def objective(trial):\n",
    "    x = trial.suggest_float('x', -10, 10)\n",
    "    return f(x)\n",
    "\n",
    "study = optuna.create_study( direction = \"minimize\" )\n",
    "study.optimize(objective, n_trials = 10 ) \n",
    "\n",
    "list_of_element = []\n",
    "for x in study.trials:\n",
    "    list_of_element.append( x.params[\"x\"]  ) \n",
    "\n",
    "print( study.best_params ) # E.g. {'x': 2.002108042} \n",
    "\n",
    "\n",
    "\n",
    "sns.lineplot(x=np.arange(-10,10,0.1), y=f(np.arange(-10,10,0.1)))\n",
    "## add the points in the lines\n",
    "for index  , x in enumerate ( list_of_element ) :\n",
    "    ## add the number in the problem \n",
    "    #plt.text(x, f(x), str(x), fontsize=10)\n",
    "    print( index ) \n",
    "    plt.text(x, f(x), str( index + 1), fontsize=10)\n",
    "    plt.scatter(x, f(x) , color='red' , s= 100)"
   ]
  },
  {
   "cell_type": "markdown",
   "metadata": {},
   "source": [
    "### Apply Optuna on PyTorch to Classify the Same Dataset which is Cifar10"
   ]
  },
  {
   "cell_type": "code",
   "execution_count": null,
   "metadata": {},
   "outputs": [],
   "source": [
    "import torch\n",
    "\n",
    "import optuna\n",
    "''' Work on it Later\n",
    "# 1. Define an objective function to be maximized.\n",
    "def objective(trial):\n",
    "\n",
    "    # 2. Suggest values of the hyperparameters using a trial object.\n",
    "    n_layers = trial.suggest_int('n_layers', 1, 3)\n",
    "    layers = []\n",
    "\n",
    "    in_features = 32 * 32 * 3\n",
    "    for i in range(n_layers):\n",
    "        out_features = trial.suggest_int(f'n_units_l{i}', 4, 128)\n",
    "        layers.append(torch.nn.Linear(in_features, out_features))\n",
    "        layers.append(torch.nn.ReLU())\n",
    "        in_features = out_features\n",
    "    layers.append(torch.nn.Linear(in_features, 10))\n",
    "    layers.append(torch.nn.LogSoftmax(dim=1))\n",
    "    model = torch.nn.Sequential(*layers).to(torch.device('cpu'))\n",
    "    \n",
    "    ## loop over the dataset multiple times\n",
    "    for epoch in range(2):  \n",
    "        running_loss = 0.0\n",
    "        for i, data in enumerate(trainloader, 0):\n",
    "            # get the inputs; data is a list of [inputs, labels]\n",
    "            inputs, labels = data\n",
    "\n",
    "\n",
    "            # ===================forward=====================\n",
    "            outputs = model(inputs)\n",
    "            loss = criterion(outputs, labels)\n",
    "            # ===================backward====================\n",
    "            # zero the gradients before running the backaward pass\n",
    "            optimizer.zero_grad()\n",
    "\n",
    "            #Backward pass to compte teh gradients of loow.wrt our learable param\n",
    "            loss.backward()\n",
    "\n",
    "            # Update the Pararameters\n",
    "            optimizer.step()\n",
    "\n",
    "            # print statistics\n",
    "            running_loss += loss.item()\n",
    "            if i % 2000 == 1999:    # print every 2000 mini-batches\n",
    "                print('[%d, %5d] loss: %.3f' %\n",
    "                      (epoch + 1, i + 1, running_loss / 2000))\n",
    "        ## evlauation of the loop \n",
    "        with torch.no_grad():\n",
    "            accuracy = 0\n",
    "            for data, target in testloader:\n",
    "                output = model(data)\n",
    "                accuracy += output.argmax(dim=1).eq(target).sum().item() / len(target)\n",
    "                \n",
    "    \n",
    "    return accuracy\n",
    "\n",
    "# 3. Create a study object and optimize the objective function.\n",
    "study = optuna.create_study(direction='maximize')\n",
    "study.optimize(objective, n_trials=100)\n",
    "'''"
   ]
  },
  {
   "cell_type": "markdown",
   "metadata": {},
   "source": [
    "## [Gluon](https://auto.gluon.ai/)\n",
    "- MultiModalPredictor.load() used pickle module implicitly, which is known to be insecure. It is possible to construct malicious pickle data which will execute arbitrary code during unpickling. Never load data that could have come from an untrusted source, or that could have been tampered with. Only load data you trust."
   ]
  },
  {
   "cell_type": "markdown",
   "metadata": {},
   "source": [
    "# Install Gluon"
   ]
  },
  {
   "cell_type": "code",
   "execution_count": null,
   "metadata": {},
   "outputs": [],
   "source": [
    "import sys\n",
    "if \"google.colab\" in sys.modules:\n",
    "    try:\n",
    "        !pip3 install -U setuptools wheel\n",
    "        !pip3 install autogluon\n",
    "        !pip show autogluon\n",
    "    except:\n",
    "        print(\"Error installing autogluon\")\n",
    "        pass"
   ]
  },
  {
   "cell_type": "code",
   "execution_count": null,
   "metadata": {},
   "outputs": [],
   "source": [
    "%matplotlib inline\n",
    "import numpy as np\n",
    "import warnings\n",
    "import matplotlib.pyplot as plt\n",
    "warnings.filterwarnings('ignore')\n",
    "np.random.seed(123)\n",
    "\n",
    "from autogluon.core.utils.loaders import load_pd\n",
    "if torch.cuda.is_available():\n",
    "    train_data = load_pd.load('https://autogluon-text.s3-accelerate.amazonaws.com/glue/sst/train.parquet')\n",
    "    test_data = load_pd.load('https://autogluon-text.s3-accelerate.amazonaws.com/glue/sst/dev.parquet')\n",
    "    subsample_size = 1000  # subsample data for faster demo, try setting this to larger values\n",
    "    train_data = train_data.sample(n=subsample_size, random_state=0)\n",
    "    train_data.head(10)\n",
    "    # ====================== Text Classification with with MultoModalPredictor ======================\n",
    "    from autogluon.multimodal import MultiModalPredictor\n",
    "    import uuid\n",
    "    model_path = f\"./tmp/{uuid.uuid4().hex}-automm_sst\"\n",
    "    predictor = MultiModalPredictor(label='label', eval_metric='acc', path=model_path)\n",
    "    predictor.fit(train_data, time_limit=180)\n",
    "    # ====================== Evaluate the predictor ======================\n",
    "    test_score = predictor.evaluate(test_data)\n",
    "    print(test_score)\n",
    "    test_score = predictor.evaluate(test_data, metrics=['acc', 'f1'])\n",
    "    print(test_score)\n",
    "    sentence1 = \"it's a charming and often affecting journey.\"\n",
    "    sentence2 = \"It's slow, very, very, very slow.\"\n",
    "    predictions = predictor.predict({'sentence': [sentence1, sentence2]})\n",
    "    print('\"Sentence\":', sentence1, '\"Predicted Sentiment\":', predictions[0])\n",
    "    print('\"Sentence\":', sentence2, '\"Predicted Sentiment\":', predictions[1])\n",
    "else:\n",
    "    print(\"CUDA is not available. Skip this example.\")"
   ]
  },
  {
   "cell_type": "markdown",
   "metadata": {},
   "source": [
    "# [Timm](https://huggingface.co/timm)\n"
   ]
  },
  {
   "cell_type": "markdown",
   "metadata": {},
   "source": [
    "## Install Timm library"
   ]
  },
  {
   "cell_type": "code",
   "execution_count": null,
   "metadata": {},
   "outputs": [],
   "source": [
    "import sys\n",
    "if \"google.colab\" in sys.modules:\n",
    "    !pip install timm"
   ]
  },
  {
   "cell_type": "markdown",
   "metadata": {},
   "source": [
    "## Download a pretrain CV from Timm Hugging Face Hub to classify an Image"
   ]
  },
  {
   "cell_type": "code",
   "execution_count": null,
   "metadata": {},
   "outputs": [],
   "source": [
    "from urllib.request import urlopen\n",
    "from PIL import Image\n",
    "import timm\n",
    "import torch\n",
    "import requests\n",
    "from PIL import Image\n",
    "from io import BytesIO\n",
    "url = 'https://datasets-server.huggingface.co/assets/imagenet-1k/--/default/test/12/image/image.jpg'\n",
    "image = Image.open(requests.get(url, stream=True).raw)\n",
    "model = timm.create_model('mobilenetv3_large_100', pretrained=True).eval()\n",
    "transform = timm.data.create_transform(\n",
    "    **timm.data.resolve_data_config( model.pretrained_cfg ))\n",
    "# == We can preapre this image for the model by passing it through the transform ==\n",
    "image_tensor = transform(image)\n",
    "print( image_tensor.shape ) \n",
    "# == Now we can pass that image ot th emodel to get the predictsions. We use unsqueeze to add a batch dimension ==\n",
    "output = model(image_tensor.unsqueeze(0))\n",
    "print( output.shape )\n",
    "## === We can use softmax to get the probabilities for each class and this leaves us with a tensor of shape ( num_classes, ) ==\n",
    "probabilities = torch.nn.functional.softmax(output[0], dim=0)\n",
    "print( probabilities.shape ) \n",
    "# == We can use the torch.topk function to get the top 5 predictions ==\n",
    "values, indices = torch.topk(probabilities, 5)\n",
    "print( indices)\n",
    "# == We can use the timm.utils.decode_predictions function to get the class names for the top 5 predictions ==\n"
   ]
  },
  {
   "cell_type": "code",
   "execution_count": null,
   "metadata": {},
   "outputs": [],
   "source": [
    "IMAGENET_1k_URL = 'https://storage.googleapis.com/bit_models/ilsvrc2012_wordnet_lemmas.txt'\n",
    "IMAGENET_1k_LABELS = requests.get(IMAGENET_1k_URL).text.strip().split('\\n')\n",
    "[{'label': IMAGENET_1k_LABELS[idx], 'value': val.item()} for val, idx in zip(values, indices)]"
   ]
  },
  {
   "cell_type": "markdown",
   "metadata": {},
   "source": [
    "<!--Copyright 2022 The HuggingFace Team. All rights reserved.\n",
    "\n",
    "Licensed under the Apache License, Version 2.0 (the \"License\"); you may not use this file except in compliance with\n",
    "the License. You may obtain a copy of the License at\n",
    "\n",
    "http://www.apache.org/licenses/LICENSE-2.0\n",
    "\n",
    "Unless required by applicable law or agreed to in writing, software distributed under the License is distributed on\n",
    "an \"AS IS\" BASIS, WITHOUT WARRANTIES OR CONDITIONS OF ANY KIND, either express or implied. See the License for the\n",
    "specific language governing permissions and limitations under the License.\n",
    "-->\n",
    "\n",
    "<p align=\"center\">\n",
    "    <br>\n",
    "    <img src=\"https://raw.githubusercontent.com/huggingface/diffusers/77aadfee6a891ab9fcfb780f87c693f7a5beeb8e/docs/source/imgs/diffusers_library.jpg\" width=\"400\"/>\n",
    "    <br>\n",
    "</p>\n",
    "\n",
    "# 🧨 Diffusers\n",
    "\n",
    "🤗 Diffusers provides pretrained vision and audio diffusion models, and serves as a modular toolbox for inference and training.\n",
    "\n",
    "More precisely, 🤗 Diffusers offers:\n",
    "\n",
    "State-of-the-art diffusion pipelines that can be run in inference with just a couple of lines of code (see Using Diffusers) or have a look at Pipelines to get an overview of all supported pipelines and their corresponding papers.\n",
    "Various noise schedulers that can be used interchangeably for the preferred speed vs. quality trade-off in inference. For more information see Schedulers.\n",
    "Multiple types of models, such as UNet, can be used as building blocks in an end-to-end diffusion system. See Models for more details\n",
    "Training examples to show how to train the most popular diffusion model tasks. For more information see Training."
   ]
  },
  {
   "cell_type": "markdown",
   "metadata": {},
   "source": [
    "## Download Stable Diffusion model to generate an Image\n",
    "1. It takes atleast 3 minutes to download the stable diffusion model from the Hugging Face Hub. However, it will download the model to your local machine so you can use it offline."
   ]
  },
  {
   "cell_type": "markdown",
   "metadata": {},
   "source": [
    "### Installtion for Stable Diffusion"
   ]
  },
  {
   "cell_type": "code",
   "execution_count": null,
   "metadata": {},
   "outputs": [],
   "source": [
    "## on google \n",
    "if \"google.colab\" in sys.modules:\n",
    "    ## Install Xformer\n",
    "    !pip install pyre-extensions==0.0.23\n",
    "    !pip install -i https://test.pypi.org/simple/ formers==0.0.15.dev376\n",
    "    # Install Diffusion\n",
    "    !pip install diffusers[torch]==0.11.1 transformers scipy ftfy accelerate"
   ]
  },
  {
   "cell_type": "markdown",
   "metadata": {},
   "source": [
    "### Run the Stable Diffusion Model Pipeline"
   ]
  },
  {
   "cell_type": "code",
   "execution_count": null,
   "metadata": {},
   "outputs": [],
   "source": [
    "from diffusers import StableDiffusionPipeline                                                                                                                                                                                                 \n",
    "import torch\n",
    "import time\n",
    "if torch.cuda.is_available():\n",
    "    model_id = \"runwayml/stable-diffusion-v1-5\"                                                                                                                                                                                                                                                                                                                                                                                                                                                 \n",
    "    #The default run we did above used full float32 precision and ran the default number of inference steps (50). The easiest speed-ups come from switching to float16 (or half) precision and simply running fewer inference steps. Let’s load the model now in float16 instead.\n",
    "    start_time = time.time()\n",
    "    pipe = StableDiffusionPipeline.from_pretrained(model_id, torch_dtype=torch.float16)                                                                                                                                                                                    \n",
    "    print(f\"Loaded model in {time.time() - start_time:.2f} seconds\")\n",
    "    prompt = \"portrait photo of a old warrior chief\"   \n",
    "    pipe = pipe.to( \"cuda\" if torch.cuda.is_available() else \"cpu\" )\n",
    "    ## There’s a small performance penalty of about 10% slower inference times, but this method allows you to use Stable Diffusion in as little as 3.2 GB of VRAM!\n",
    "    pipe.enable_attention_slicing()\n",
    "    generator = torch.Generator(\"cuda\" if torch.cuda.is_available() else \"cpu\").manual_seed(0)   \n",
    "    image = pipe(prompt, generator=generator).images[0]                                                                                                                                                                                           \n",
    "    image                                                                                                                                                                                                                                         \n"
   ]
  },
  {
   "cell_type": "markdown",
   "metadata": {},
   "source": [
    "### Create your own prompt is you have Cuda GPU\n",
    "1. You are looking for a [prmopt generator](https://huggingface.co/spaces/doevent/Stable-Diffusion-prompt-generator)"
   ]
  },
  {
   "cell_type": "code",
   "execution_count": null,
   "metadata": {},
   "outputs": [],
   "source": [
    "if torch.cuda.is_avaible():\n",
    "    \n",
    "    prompt = \"\"\"\n",
    "    For the apocalypse, Ilya Kuvshinov, digital, concept art, Kyoto animation,last exile, blue submarine no. 6, gustav klimt,loish, murata range, kawaii, yoshitaka amano, studio lighting, manga, bright colors, beautiful, 28mm lens,mucha, vibrant high contrast, gradation, jean giraud, fantasy, rule of\n",
    "\n",
    "    For the apocalypse, RPG Reference, Oil Painting, Trending on Artstation, octane render, Insanely Detailed, 8k, HD\n",
    "\n",
    "    For the apocalypse there is a lake, full of fire, and a handsome blond male knight in epic steampunk armor, in silent hill valley, symmetrical face, golden hour, epic scene, by craig mullins, jaime jones, greg rutkowski, giger, maxim verehin\n",
    "    \"\"\"\n",
    "    image = pipe(prompt, generator=generator).images[0]                                                                                                                                                                                          "
   ]
  },
  {
   "cell_type": "markdown",
   "metadata": {},
   "source": [
    "### How big can your batch size be in your Diffusion Model for your given GPU during inference?\n",
    "Less memory used in generation indirectly implies more speed, since we’re often trying to maximize how many images we can generate per second. Usually, the more images per inference run, the more images per second too.\n",
    "\n",
    "The easiest way to see how many images we can generate at once is to simply try it out, and see when we get a “Out-of-memory (OOM)” error.\n",
    "\n",
    "We can run batched inference by simply passing a list of prompts and generators. Let’s define a quick function that generates a batch for us.### See how "
   ]
  },
  {
   "cell_type": "code",
   "execution_count": null,
   "metadata": {},
   "outputs": [],
   "source": [
    "def get_inputs(batch_size=1):                                                                                                                                                                                                                 \n",
    "  generator = [torch.Generator(\"cuda\").manual_seed(i) for i in range(batch_size)]                                                                                                                                                             \n",
    "  prompts = batch_size * [prompt]                                                                                                                                                                                                             \n",
    "  num_inference_steps = 20                                                                                                                                                                                                                    \n",
    "\n",
    "  return {\"prompt\": prompts, \"generator\": generator, \"num_inference_steps\": num_inference_steps} \n",
    "from PIL import Image                                                                                                                                                                                                                         \n",
    "'''\n",
    "This function returns a list of prompts and a list of generators, so we can reuse the generator that produced a result we like.\n",
    "\n",
    "We also need a method that allows us to easily display a batch of images.\n",
    "'''\n",
    "def image_grid(imgs, rows=2, cols=2):                                                                                                                                                                                                         \n",
    "    w, h = imgs[0].size                                                                                                                                                                                                                       \n",
    "    grid = Image.new('RGB', size=(cols*w, rows*h))                                                                                                                                                                                            \n",
    "                                                                                                                                                                                                                                              \n",
    "    for i, img in enumerate(imgs):                                                                                                                                                                                                            \n",
    "        grid.paste(img, box=(i%cols*w, i//cols*h))                                                                                                                                                                                            \n",
    "    return grid"
   ]
  },
  {
   "cell_type": "markdown",
   "metadata": {},
   "source": [
    "# Hugging Face Libraries "
   ]
  },
  {
   "cell_type": "markdown",
   "metadata": {},
   "source": [
    "## NLP"
   ]
  },
  {
   "cell_type": "markdown",
   "metadata": {},
   "source": [
    "### Zero Shot Classification Text Classification on 14 different Languages\n",
    "- XNLI is a subset of a few thousand examples from MNLI which has been translated into a 100 different languages (some low-ish resource). As with MNLI, the goal is to predict textual entailment (does sentence A imply/contradict/neither sentence B) and is a classification task (given two sentences, predict one of three labels).[1]"
   ]
  },
  {
   "cell_type": "code",
   "execution_count": null,
   "metadata": {},
   "outputs": [],
   "source": [
    "from transformers import pipeline\n",
    "classifier = pipeline(\"zero-shot-classification\", model=\"MoritzLaurer/mDeBERTa-v3-base-mnli-xnli\")\n",
    "\n",
    "sequence_to_classify = \"Angela Merkel ist eine Politikerin in Deutschland und Vorsitzende der CDU\"\n",
    "candidate_labels = [\"politics\", \"economy\", \"entertainment\", \"environment\"]\n",
    "output = classifier(sequence_to_classify, candidate_labels, multi_label=False)\n",
    "print(output)\n"
   ]
  },
  {
   "cell_type": "markdown",
   "metadata": {},
   "source": [
    "### Summarization"
   ]
  },
  {
   "cell_type": "code",
   "execution_count": null,
   "metadata": {},
   "outputs": [],
   "source": [
    "SUMMARY_TEXT_SAMPLE = \"The tower is 324 metres (1,063 ft) tall, about the same height as an 81-storey building, and the tallest structure in Paris. Its base is square, measuring 125 metres (410 ft) on each side. During its construction, the Eiffel Tower surpassed the Washington Monument to become the tallest man-made structure in the world, a title it held for 41 years until the Chrysler Building in New York City was finished in 1930. It was the first structure to reach a height of 300 metres. Due to the addition of a broadcasting aerial at the top of the tower in 1957, it is now taller than the Chrysler Building by 5.2 metres (17 ft). Excluding transmitters, the Eiffel Tower is the second tallest free-standing structure in France after the Millau Viaduct.\"\n",
    "# use bart in pytorch\n",
    "from transformers import pipeline\n",
    "'''\n",
    "No model was supplied, defaulted to sshleifer/distilbart-cnn-12-6 and revision a4f8f3e (https://huggingface.co/sshleifer/distilbart-cnn-12-6).\n",
    "Using a pipeline without specifying a model name and revision in production is not recommended.\n",
    "'''\n",
    "default_hg_summarizer = pipeline(\"summarization\")\n",
    "print( default_hg_summarizer(SUMMARY_TEXT_SAMPLE) ) "
   ]
  },
  {
   "cell_type": "markdown",
   "metadata": {},
   "source": [
    "### Fine Tune a small BERT on Tweet Eval emotion Subset dataset"
   ]
  },
  {
   "cell_type": "code",
   "execution_count": null,
   "metadata": {},
   "outputs": [],
   "source": [
    "from datasets import load_dataset\n",
    "\n",
    "\n",
    "dataset = load_dataset(\"tweet_eval\", \"emotion\")\n",
    "print(dataset[\"train\"][0])\n",
    "print(dataset)\n",
    "\n",
    "from transformers import AutoTokenizer, AutoModelForSequenceClassification\n",
    "\n",
    "tokenizer = AutoTokenizer.from_pretrained(\"neuralmagic/oBERT-3-upstream-pretrained-dense\" )\n",
    "\n",
    "def preprocess_function(examples):\n",
    "    return tokenizer(examples[\"text\"], truncation=True)\n",
    "\n",
    "tokenized_dataset = dataset.map(preprocess_function, batched=True)\n",
    "\n",
    "model = AutoModelForSequenceClassification.from_pretrained(\"neuralmagic/oBERT-3-upstream-pretrained-dense\" , num_labels = 4)\n",
    "\n",
    "## Calling the training arguments \n",
    "from transformers import TrainingArguments , Trainer\n",
    "training_args = TrainingArguments(\n",
    "    output_dir=\"my_awesome_model\",\n",
    "    learning_rate=2e-5,\n",
    "    per_device_train_batch_size=16,\n",
    "    per_device_eval_batch_size=16,\n",
    "    num_train_epochs=2,\n",
    "    weight_decay=0.01,\n",
    "    evaluation_strategy=\"epoch\",\n",
    "    save_strategy=\"epoch\",\n",
    "    load_best_model_at_end=True,\n",
    ")\n",
    "\n",
    "trainer = Trainer(\n",
    "    model=model,\n",
    "    args=training_args,\n",
    "    train_dataset = tokenized_dataset[\"train\"],\n",
    "    tokenizer=tokenizer,\n",
    ")\n",
    "trainer.train()\n",
    "\n",
    "    \n"
   ]
  },
  {
   "cell_type": "markdown",
   "metadata": {},
   "source": [
    "# Rich"
   ]
  },
  {
   "cell_type": "code",
   "execution_count": null,
   "metadata": {},
   "outputs": [],
   "source": [
    "\n",
    "# Rich example\n",
    "from rich.console import Console\n",
    "from rich.table import Table\n",
    "\n",
    "# Create a table\n",
    "table = Table(title=\"Machine Learning Libraries\")\n",
    "table.add_column(\"Name\", justify=\"center\", style=\"cyan\")\n",
    "table.add_column(\"Description\", justify=\"center\")\n",
    "\n",
    "# Add rows to the table\n",
    "table.add_row(\"TensorFlow\", \"Dataflow and differentiable programming\")\n",
    "table.add_row(\"Scikit-learn\", \"Classification, regression and clustering algorithms\")\n",
    "table.add_row(\"PyTorch\", \"Computer vision and natural language processing\")\n",
    "table.add_row(\"Numpy\", \"High-performance multidimensional array object\")\n",
    "table.add_row(\"Matplotlib\", \"Plotting library for Python\")\n",
    "table.add_row(\"Pandas\", \"Data structures and data analysis tools\")\n",
    "table.add_row(\"SciPy\", \"Algorithms and mathematical tools\")\n",
    "table.add_row(\"Rich\", \"Building command-line applications\")\n",
    "\n",
    "# Print the table\n",
    "console = Console()\n",
    "console.print(table)"
   ]
  }
 ],
 "metadata": {
  "kernelspec": {
   "display_name": "Python 3.7.16 ('ais_workshop_2')",
   "language": "python",
   "name": "python3"
  },
  "language_info": {
   "codemirror_mode": {
    "name": "ipython",
    "version": 3
   },
   "file_extension": ".py",
   "mimetype": "text/x-python",
   "name": "python",
   "nbconvert_exporter": "python",
   "pygments_lexer": "ipython3",
   "version": "3.7.16"
  },
  "orig_nbformat": 4,
  "vscode": {
   "interpreter": {
    "hash": "8e9d572ae516dda0f6fca9e9abb491652f2e6b61591fabc29b9106036a81d0f9"
   }
  }
 },
 "nbformat": 4,
 "nbformat_minor": 2
}
